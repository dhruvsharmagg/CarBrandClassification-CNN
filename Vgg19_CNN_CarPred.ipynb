{
  "nbformat": 4,
  "nbformat_minor": 0,
  "metadata": {
    "colab": {
      "name": "Vgg19_CNN_CarPred.ipynb",
      "provenance": [],
      "collapsed_sections": []
    },
    "kernelspec": {
      "name": "python3",
      "display_name": "Python 3"
    },
    "accelerator": "GPU"
  },
  "cells": [
    {
      "cell_type": "code",
      "metadata": {
        "id": "j-2CoozubOEm",
        "colab_type": "code",
        "colab": {}
      },
      "source": [
        "from tensorflow.keras.layers import Input, Lambda, Dense, Flatten\n",
        "from tensorflow.keras.models import Model\n",
        "from tensorflow.keras.applications.resnet50 import ResNet50\n",
        "from keras.applications.vgg19 import VGG19\n",
        "from tensorflow.keras.applications.resnet50 import preprocess_input\n",
        "from tensorflow.keras.preprocessing import image\n",
        "from tensorflow.keras.preprocessing.image import ImageDataGenerator,load_img\n",
        "from tensorflow.keras.models import Sequential\n",
        "import numpy as np\n",
        "from glob import glob\n",
        "import matplotlib.pyplot as plt\n",
        "from keras.applications.inception_v3 import InceptionV3\n"
      ],
      "execution_count": 58,
      "outputs": []
    },
    {
      "cell_type": "code",
      "metadata": {
        "id": "AIAUQ4zQbek7",
        "colab_type": "code",
        "colab": {}
      },
      "source": [
        "IMAGE_SIZE = [224, 224]\n",
        "\n",
        "train_path = '/content/drive/My Drive/CNN Car Pred/Datasets/Train'\n",
        "valid_path = '/content/drive/My Drive/CNN Car Pred/Datasets/Test'"
      ],
      "execution_count": 59,
      "outputs": []
    },
    {
      "cell_type": "code",
      "metadata": {
        "id": "RKrWdxp1bhoB",
        "colab_type": "code",
        "colab": {}
      },
      "source": [
        "vgg19 = VGG19(input_shape=IMAGE_SIZE + [3], weights='imagenet', include_top=False)"
      ],
      "execution_count": 60,
      "outputs": []
    },
    {
      "cell_type": "code",
      "metadata": {
        "id": "VhA07mMRb-Z7",
        "colab_type": "code",
        "colab": {}
      },
      "source": [
        "for layer in vgg19.layers:\n",
        "    layer.trainable = False"
      ],
      "execution_count": 61,
      "outputs": []
    },
    {
      "cell_type": "code",
      "metadata": {
        "id": "FG1IMPpuc1BR",
        "colab_type": "code",
        "colab": {}
      },
      "source": [
        "folders = glob('/content/drive/My Drive/CNN Car Pred/Datasets/Train/*')"
      ],
      "execution_count": 62,
      "outputs": []
    },
    {
      "cell_type": "code",
      "metadata": {
        "id": "XA19CWo9c27q",
        "colab_type": "code",
        "colab": {
          "base_uri": "https://localhost:8080/",
          "height": 119
        },
        "outputId": "ec707968-3bab-4369-f7e2-9e002dbafe8b"
      },
      "source": [
        "folders"
      ],
      "execution_count": 63,
      "outputs": [
        {
          "output_type": "execute_result",
          "data": {
            "text/plain": [
              "['/content/drive/My Drive/CNN Car Pred/Datasets/Train/mercedes',\n",
              " '/content/drive/My Drive/CNN Car Pred/Datasets/Train/lamborghini',\n",
              " '/content/drive/My Drive/CNN Car Pred/Datasets/Train/jaguar',\n",
              " '/content/drive/My Drive/CNN Car Pred/Datasets/Train/audi',\n",
              " '/content/drive/My Drive/CNN Car Pred/Datasets/Train/bmw',\n",
              " '/content/drive/My Drive/CNN Car Pred/Datasets/Train/ferrari']"
            ]
          },
          "metadata": {
            "tags": []
          },
          "execution_count": 63
        }
      ]
    },
    {
      "cell_type": "code",
      "metadata": {
        "id": "g_cc_KH0c7ki",
        "colab_type": "code",
        "colab": {}
      },
      "source": [
        "x = Flatten()(vgg19.output)"
      ],
      "execution_count": 64,
      "outputs": []
    },
    {
      "cell_type": "code",
      "metadata": {
        "id": "ulTKBUSpc_hb",
        "colab_type": "code",
        "colab": {}
      },
      "source": [
        "prediction = Dense(len(folders), activation='softmax')(x)\n"
      ],
      "execution_count": 65,
      "outputs": []
    },
    {
      "cell_type": "code",
      "metadata": {
        "id": "y6ug4-FmdBzK",
        "colab_type": "code",
        "colab": {}
      },
      "source": [
        "model = Model(inputs=vgg19.input, outputs=prediction)"
      ],
      "execution_count": 66,
      "outputs": []
    },
    {
      "cell_type": "code",
      "metadata": {
        "id": "1UMqzgLXdDua",
        "colab_type": "code",
        "colab": {
          "base_uri": "https://localhost:8080/",
          "height": 969
        },
        "outputId": "a4777ec3-07ac-4c16-ba15-077c8172c98a"
      },
      "source": [
        "model.summary()"
      ],
      "execution_count": 67,
      "outputs": [
        {
          "output_type": "stream",
          "text": [
            "Model: \"functional_5\"\n",
            "_________________________________________________________________\n",
            "Layer (type)                 Output Shape              Param #   \n",
            "=================================================================\n",
            "input_4 (InputLayer)         [(None, 224, 224, 3)]     0         \n",
            "_________________________________________________________________\n",
            "block1_conv1 (Conv2D)        (None, 224, 224, 64)      1792      \n",
            "_________________________________________________________________\n",
            "block1_conv2 (Conv2D)        (None, 224, 224, 64)      36928     \n",
            "_________________________________________________________________\n",
            "block1_pool (MaxPooling2D)   (None, 112, 112, 64)      0         \n",
            "_________________________________________________________________\n",
            "block2_conv1 (Conv2D)        (None, 112, 112, 128)     73856     \n",
            "_________________________________________________________________\n",
            "block2_conv2 (Conv2D)        (None, 112, 112, 128)     147584    \n",
            "_________________________________________________________________\n",
            "block2_pool (MaxPooling2D)   (None, 56, 56, 128)       0         \n",
            "_________________________________________________________________\n",
            "block3_conv1 (Conv2D)        (None, 56, 56, 256)       295168    \n",
            "_________________________________________________________________\n",
            "block3_conv2 (Conv2D)        (None, 56, 56, 256)       590080    \n",
            "_________________________________________________________________\n",
            "block3_conv3 (Conv2D)        (None, 56, 56, 256)       590080    \n",
            "_________________________________________________________________\n",
            "block3_conv4 (Conv2D)        (None, 56, 56, 256)       590080    \n",
            "_________________________________________________________________\n",
            "block3_pool (MaxPooling2D)   (None, 28, 28, 256)       0         \n",
            "_________________________________________________________________\n",
            "block4_conv1 (Conv2D)        (None, 28, 28, 512)       1180160   \n",
            "_________________________________________________________________\n",
            "block4_conv2 (Conv2D)        (None, 28, 28, 512)       2359808   \n",
            "_________________________________________________________________\n",
            "block4_conv3 (Conv2D)        (None, 28, 28, 512)       2359808   \n",
            "_________________________________________________________________\n",
            "block4_conv4 (Conv2D)        (None, 28, 28, 512)       2359808   \n",
            "_________________________________________________________________\n",
            "block4_pool (MaxPooling2D)   (None, 14, 14, 512)       0         \n",
            "_________________________________________________________________\n",
            "block5_conv1 (Conv2D)        (None, 14, 14, 512)       2359808   \n",
            "_________________________________________________________________\n",
            "block5_conv2 (Conv2D)        (None, 14, 14, 512)       2359808   \n",
            "_________________________________________________________________\n",
            "block5_conv3 (Conv2D)        (None, 14, 14, 512)       2359808   \n",
            "_________________________________________________________________\n",
            "block5_conv4 (Conv2D)        (None, 14, 14, 512)       2359808   \n",
            "_________________________________________________________________\n",
            "block5_pool (MaxPooling2D)   (None, 7, 7, 512)         0         \n",
            "_________________________________________________________________\n",
            "flatten_2 (Flatten)          (None, 25088)             0         \n",
            "_________________________________________________________________\n",
            "dense_2 (Dense)              (None, 6)                 150534    \n",
            "=================================================================\n",
            "Total params: 20,174,918\n",
            "Trainable params: 150,534\n",
            "Non-trainable params: 20,024,384\n",
            "_________________________________________________________________\n"
          ],
          "name": "stdout"
        }
      ]
    },
    {
      "cell_type": "code",
      "metadata": {
        "id": "kIz6Zt1OdF06",
        "colab_type": "code",
        "colab": {}
      },
      "source": [
        "model.compile(loss='categorical_crossentropy',optimizer='adam',metrics=['accuracy'])"
      ],
      "execution_count": 68,
      "outputs": []
    },
    {
      "cell_type": "code",
      "metadata": {
        "id": "TO7C2a1PdLfC",
        "colab_type": "code",
        "colab": {}
      },
      "source": [
        "from tensorflow.keras.preprocessing.image import ImageDataGenerator\n",
        "\n",
        "train_datagen = ImageDataGenerator(rescale = 1./255,shear_range = 0.2,zoom_range = 0.2,horizontal_flip = True)\n",
        "\n",
        "test_datagen = ImageDataGenerator(rescale = 1./255)"
      ],
      "execution_count": 69,
      "outputs": []
    },
    {
      "cell_type": "code",
      "metadata": {
        "id": "8Z9urqb_dNvi",
        "colab_type": "code",
        "colab": {
          "base_uri": "https://localhost:8080/",
          "height": 34
        },
        "outputId": "7e28f69e-fa0d-45f1-c1df-da21824263cf"
      },
      "source": [
        "training_set = train_datagen.flow_from_directory('/content/drive/My Drive/CNN Car Pred/Datasets/Train/',target_size = (224, 224),batch_size = 64,class_mode = 'categorical')"
      ],
      "execution_count": 70,
      "outputs": [
        {
          "output_type": "stream",
          "text": [
            "Found 2259 images belonging to 6 classes.\n"
          ],
          "name": "stdout"
        }
      ]
    },
    {
      "cell_type": "code",
      "metadata": {
        "id": "gfTomibMdQpa",
        "colab_type": "code",
        "colab": {
          "base_uri": "https://localhost:8080/",
          "height": 34
        },
        "outputId": "999bed70-e1b3-4828-b400-1ba429cebc70"
      },
      "source": [
        "test_set = test_datagen.flow_from_directory('/content/drive/My Drive/CNN Car Pred/Datasets/Test/',target_size = (224, 224),batch_size = 64,class_mode = 'categorical')"
      ],
      "execution_count": 71,
      "outputs": [
        {
          "output_type": "stream",
          "text": [
            "Found 281 images belonging to 6 classes.\n"
          ],
          "name": "stdout"
        }
      ]
    },
    {
      "cell_type": "code",
      "metadata": {
        "id": "YVKwqrHAdcRi",
        "colab_type": "code",
        "colab": {
          "base_uri": "https://localhost:8080/",
          "height": 751
        },
        "outputId": "6c983d08-8e5d-4a2a-d42e-44a013a2e9e8"
      },
      "source": [
        "v = model.fit_generator(training_set,validation_data=test_set,epochs=20,steps_per_epoch=len(training_set),validation_steps=len(test_set))"
      ],
      "execution_count": 72,
      "outputs": [
        {
          "output_type": "stream",
          "text": [
            "Epoch 1/20\n",
            " 5/36 [===>..........................] - ETA: 41s - loss: 3.2942 - accuracy: 0.1719"
          ],
          "name": "stdout"
        },
        {
          "output_type": "stream",
          "text": [
            "/usr/local/lib/python3.6/dist-packages/PIL/Image.py:932: UserWarning: Palette images with Transparency expressed in bytes should be converted to RGBA images\n",
            "  \"Palette images with Transparency expressed in bytes should be \"\n"
          ],
          "name": "stderr"
        },
        {
          "output_type": "stream",
          "text": [
            "36/36 [==============================] - 59s 2s/step - loss: 1.7855 - accuracy: 0.4112 - val_loss: 1.1588 - val_accuracy: 0.5836\n",
            "Epoch 2/20\n",
            "36/36 [==============================] - 59s 2s/step - loss: 0.8092 - accuracy: 0.7242 - val_loss: 1.0111 - val_accuracy: 0.6441\n",
            "Epoch 3/20\n",
            "36/36 [==============================] - 59s 2s/step - loss: 0.6113 - accuracy: 0.7964 - val_loss: 1.1258 - val_accuracy: 0.5872\n",
            "Epoch 4/20\n",
            "36/36 [==============================] - 57s 2s/step - loss: 0.4877 - accuracy: 0.8508 - val_loss: 0.7726 - val_accuracy: 0.7402\n",
            "Epoch 5/20\n",
            "36/36 [==============================] - 56s 2s/step - loss: 0.3755 - accuracy: 0.9013 - val_loss: 0.7311 - val_accuracy: 0.7616\n",
            "Epoch 6/20\n",
            "36/36 [==============================] - 57s 2s/step - loss: 0.3348 - accuracy: 0.9048 - val_loss: 0.7474 - val_accuracy: 0.7153\n",
            "Epoch 7/20\n",
            "36/36 [==============================] - 55s 2s/step - loss: 0.2852 - accuracy: 0.9274 - val_loss: 0.6757 - val_accuracy: 0.7651\n",
            "Epoch 8/20\n",
            "36/36 [==============================] - 55s 2s/step - loss: 0.2532 - accuracy: 0.9425 - val_loss: 0.6511 - val_accuracy: 0.7936\n",
            "Epoch 9/20\n",
            "36/36 [==============================] - 53s 1s/step - loss: 0.2170 - accuracy: 0.9522 - val_loss: 0.7009 - val_accuracy: 0.7865\n",
            "Epoch 10/20\n",
            "36/36 [==============================] - 54s 2s/step - loss: 0.1871 - accuracy: 0.9681 - val_loss: 0.6158 - val_accuracy: 0.8007\n",
            "Epoch 11/20\n",
            "36/36 [==============================] - 53s 1s/step - loss: 0.1724 - accuracy: 0.9646 - val_loss: 0.6091 - val_accuracy: 0.8043\n",
            "Epoch 12/20\n",
            "36/36 [==============================] - 53s 1s/step - loss: 0.1467 - accuracy: 0.9805 - val_loss: 0.5785 - val_accuracy: 0.8221\n",
            "Epoch 13/20\n",
            "36/36 [==============================] - 53s 1s/step - loss: 0.1319 - accuracy: 0.9805 - val_loss: 0.6097 - val_accuracy: 0.7900\n",
            "Epoch 14/20\n",
            "36/36 [==============================] - 53s 1s/step - loss: 0.1324 - accuracy: 0.9761 - val_loss: 0.5723 - val_accuracy: 0.8078\n",
            "Epoch 15/20\n",
            "36/36 [==============================] - 52s 1s/step - loss: 0.1141 - accuracy: 0.9827 - val_loss: 0.5782 - val_accuracy: 0.8149\n",
            "Epoch 16/20\n",
            "36/36 [==============================] - 54s 1s/step - loss: 0.1376 - accuracy: 0.9655 - val_loss: 0.6186 - val_accuracy: 0.8043\n",
            "Epoch 17/20\n",
            "36/36 [==============================] - 52s 1s/step - loss: 0.0902 - accuracy: 0.9885 - val_loss: 0.5750 - val_accuracy: 0.8043\n",
            "Epoch 18/20\n",
            "36/36 [==============================] - 52s 1s/step - loss: 0.1008 - accuracy: 0.9836 - val_loss: 0.6373 - val_accuracy: 0.8007\n",
            "Epoch 19/20\n",
            "36/36 [==============================] - 51s 1s/step - loss: 0.0822 - accuracy: 0.9907 - val_loss: 0.5532 - val_accuracy: 0.8327\n",
            "Epoch 20/20\n",
            "36/36 [==============================] - 53s 1s/step - loss: 0.0762 - accuracy: 0.9911 - val_loss: 0.5725 - val_accuracy: 0.8078\n"
          ],
          "name": "stdout"
        }
      ]
    },
    {
      "cell_type": "code",
      "metadata": {
        "id": "CxF3aCz29EdZ",
        "colab_type": "code",
        "colab": {}
      },
      "source": [
        ""
      ],
      "execution_count": null,
      "outputs": []
    },
    {
      "cell_type": "code",
      "metadata": {
        "id": "EC1ThzVRde2S",
        "colab_type": "code",
        "colab": {
          "base_uri": "https://localhost:8080/",
          "height": 265
        },
        "outputId": "cd6dff86-557a-4d5a-a65e-337f06dd3433"
      },
      "source": [
        "plt.plot(i.history['loss'],label = 'train loss')\n",
        "plt.plot(i.history['val_loss'],label = 'test loss')\n",
        "plt.legend()\n",
        "plt.show()"
      ],
      "execution_count": 73,
      "outputs": [
        {
          "output_type": "display_data",
          "data": {
            "image/png": "[encoded data removed]",
            "text/plain": [
              "<Figure size 432x288 with 1 Axes>"
            ]
          },
          "metadata": {
            "tags": [],
            "needs_background": "light"
          }
        }
      ]
    },
    {
      "cell_type": "code",
      "metadata": {
        "id": "k329VmiAoxpk",
        "colab_type": "code",
        "colab": {
          "base_uri": "https://localhost:8080/",
          "height": 265
        },
        "outputId": "4954c9da-fbec-41df-da81-8311dd5aa0c7"
      },
      "source": [
        "plt.plot(i.history['accuracy'],label = 'train accuracy')\n",
        "plt.plot(i.history['val_accuracy'],label = 'test accuracy')\n",
        "plt.legend()\n",
        "plt.show()"
      ],
      "execution_count": 74,
      "outputs": [
        {
          "output_type": "display_data",
          "data": {
            "image/png": "[encoded data removed]",
            "text/plain": [
              "<Figure size 432x288 with 1 Axes>"
            ]
          },
          "metadata": {
            "tags": [],
            "needs_background": "light"
          }
        }
      ]
    },
    {
      "cell_type": "code",
      "metadata": {
        "id": "TeBfo2cX1aP3",
        "colab_type": "code",
        "colab": {}
      },
      "source": [
        "from keras.models import load_model"
      ],
      "execution_count": 75,
      "outputs": []
    },
    {
      "cell_type": "code",
      "metadata": {
        "id": "MnFE175k1pDJ",
        "colab_type": "code",
        "colab": {}
      },
      "source": [
        "model.save('model_vgg16_6.h5')"
      ],
      "execution_count": 76,
      "outputs": []
    },
    {
      "cell_type": "code",
      "metadata": {
        "id": "sYnOgqLh-_o5",
        "colab_type": "code",
        "colab": {
          "base_uri": "https://localhost:8080/",
          "height": 17
        },
        "outputId": "75049a6f-b787-4bfd-ff18-054d24783631"
      },
      "source": [
        "from google.colab import files\n",
        "files.download('model_vgg16_6.h5')"
      ],
      "execution_count": 77,
      "outputs": [
        {
          "output_type": "display_data",
          "data": {
            "application/javascript": [
              "\n",
              "    async function download(id, filename, size) {\n",
              "      if (!google.colab.kernel.accessAllowed) {\n",
              "        return;\n",
              "      }\n",
              "      const div = document.createElement('div');\n",
              "      const label = document.createElement('label');\n",
              "      label.textContent = `Downloading \"${filename}\": `;\n",
              "      div.appendChild(label);\n",
              "      const progress = document.createElement('progress');\n",
              "      progress.max = size;\n",
              "      div.appendChild(progress);\n",
              "      document.body.appendChild(div);\n",
              "\n",
              "      const buffers = [];\n",
              "      let downloaded = 0;\n",
              "\n",
              "      const channel = await google.colab.kernel.comms.open(id);\n",
              "      // Send a message to notify the kernel that we're ready.\n",
              "      channel.send({})\n",
              "\n",
              "      for await (const message of channel.messages) {\n",
              "        // Send a message to notify the kernel that we're ready.\n",
              "        channel.send({})\n",
              "        if (message.buffers) {\n",
              "          for (const buffer of message.buffers) {\n",
              "            buffers.push(buffer);\n",
              "            downloaded += buffer.byteLength;\n",
              "            progress.value = downloaded;\n",
              "          }\n",
              "        }\n",
              "      }\n",
              "      const blob = new Blob(buffers, {type: 'application/binary'});\n",
              "      const a = document.createElement('a');\n",
              "      a.href = window.URL.createObjectURL(blob);\n",
              "      a.download = filename;\n",
              "      div.appendChild(a);\n",
              "      a.click();\n",
              "      div.remove();\n",
              "    }\n",
              "  "
            ],
            "text/plain": [
              "<IPython.core.display.Javascript object>"
            ]
          },
          "metadata": {
            "tags": []
          }
        },
        {
          "output_type": "display_data",
          "data": {
            "application/javascript": [
              "download(\"download_54c953e7-e517-4b47-b300-9d62cfc7e581\", \"model_vgg16_6.h5\", 81994888)"
            ],
            "text/plain": [
              "<IPython.core.display.Javascript object>"
            ]
          },
          "metadata": {
            "tags": []
          }
        }
      ]
    },
    {
      "cell_type": "code",
      "metadata": {
        "id": "oq3AOerh11go",
        "colab_type": "code",
        "colab": {}
      },
      "source": [
        "y_pred = model.predict(test_set)"
      ],
      "execution_count": 78,
      "outputs": []
    },
    {
      "cell_type": "code",
      "metadata": {
        "id": "CTPsrBqSltPm",
        "colab_type": "code",
        "colab": {
          "base_uri": "https://localhost:8080/",
          "height": 34
        },
        "outputId": "a34a7aa0-5baa-4820-fbf9-50036e9f8c41"
      },
      "source": [
        "y_pred.shape"
      ],
      "execution_count": 79,
      "outputs": [
        {
          "output_type": "execute_result",
          "data": {
            "text/plain": [
              "(281, 6)"
            ]
          },
          "metadata": {
            "tags": []
          },
          "execution_count": 79
        }
      ]
    },
    {
      "cell_type": "code",
      "metadata": {
        "id": "sXiqJ1hO3OgJ",
        "colab_type": "code",
        "colab": {}
      },
      "source": [
        "import numpy as np\n",
        "y_pred = np.argmax(y_pred,axis=1)"
      ],
      "execution_count": 80,
      "outputs": []
    },
    {
      "cell_type": "code",
      "metadata": {
        "id": "fIkPK_Ru3r3Q",
        "colab_type": "code",
        "colab": {
          "base_uri": "https://localhost:8080/",
          "height": 238
        },
        "outputId": "0722adf5-db0a-4c1a-8af0-d27a99a3dfa9"
      },
      "source": [
        "y_pred"
      ],
      "execution_count": 81,
      "outputs": [
        {
          "output_type": "execute_result",
          "data": {
            "text/plain": [
              "array([2, 2, 4, 3, 2, 5, 5, 0, 2, 1, 5, 1, 1, 0, 1, 0, 3, 3, 4, 1, 2, 3,\n",
              "       1, 4, 2, 0, 5, 0, 1, 0, 1, 3, 2, 2, 1, 0, 4, 1, 1, 2, 4, 1, 1, 3,\n",
              "       0, 4, 1, 4, 0, 4, 4, 2, 0, 1, 4, 1, 1, 1, 5, 1, 4, 1, 5, 4, 5, 0,\n",
              "       2, 0, 1, 1, 0, 1, 5, 0, 2, 4, 3, 0, 4, 1, 3, 0, 0, 4, 1, 0, 1, 1,\n",
              "       0, 1, 1, 1, 3, 1, 2, 2, 2, 4, 4, 4, 1, 4, 1, 1, 1, 1, 2, 4, 0, 1,\n",
              "       0, 1, 5, 2, 0, 5, 5, 0, 3, 0, 4, 2, 0, 1, 0, 1, 5, 2, 5, 3, 0, 4,\n",
              "       1, 5, 3, 1, 0, 2, 1, 1, 4, 0, 5, 3, 4, 1, 1, 4, 2, 5, 4, 1, 4, 4,\n",
              "       3, 0, 3, 0, 5, 2, 3, 5, 2, 4, 4, 0, 4, 1, 4, 2, 0, 3, 0, 4, 5, 5,\n",
              "       4, 2, 2, 4, 1, 2, 1, 1, 4, 4, 4, 4, 1, 4, 0, 4, 2, 1, 4, 4, 3, 1,\n",
              "       3, 0, 3, 0, 1, 0, 4, 2, 4, 2, 2, 2, 1, 1, 4, 2, 1, 2, 0, 3, 3, 4,\n",
              "       0, 1, 2, 3, 3, 1, 1, 4, 4, 4, 1, 2, 2, 1, 4, 3, 1, 4, 2, 3, 0, 3,\n",
              "       1, 4, 0, 5, 0, 3, 4, 3, 3, 2, 1, 2, 1, 4, 4, 1, 1, 4, 2, 4, 5, 4,\n",
              "       5, 2, 3, 1, 1, 1, 2, 1, 2, 1, 1, 1, 3, 1, 1, 3, 0])"
            ]
          },
          "metadata": {
            "tags": []
          },
          "execution_count": 81
        }
      ]
    },
    {
      "cell_type": "code",
      "metadata": {
        "id": "40k9tVYpRVZn",
        "colab_type": "code",
        "colab": {}
      },
      "source": [
        "from tensorflow.keras.models import load_model\n",
        "model=load_model('/content/drive/My Drive/CNN Car Pred/model_vgg19_6.h5')"
      ],
      "execution_count": 109,
      "outputs": []
    },
    {
      "cell_type": "code",
      "metadata": {
        "id": "8MHGRikO4CkQ",
        "colab_type": "code",
        "colab": {}
      },
      "source": [
        "from tensorflow.keras.preprocessing import image\n",
        "img = image.load_img('/content/drive/My Drive/CNN Car Pred/download.jpg',target_size=(224,224))"
      ],
      "execution_count": 114,
      "outputs": []
    },
    {
      "cell_type": "code",
      "metadata": {
        "id": "ZQBHq3eM5zho",
        "colab_type": "code",
        "colab": {
          "base_uri": "https://localhost:8080/",
          "height": 34
        },
        "outputId": "f1a99d06-cb0d-44a6-f55e-b9e3819b4ac1"
      },
      "source": [
        "image = image.img_to_array(img)\n",
        "image = image/255.  \n",
        "image = image.reshape((1, image.shape[0], image.shape[1], image.shape[2]))\n",
        "model.predict(image)\n",
        "import numpy as np\n",
        "a=np.argmax(model.predict(image), axis=1)\n",
        "if a==0:\n",
        "  print (\"That's an Audi!\")\n",
        "elif a==1:\n",
        "  print(\"That's a BMW!\")\n",
        "elif a==2:\n",
        "  print(\"That's a Ferrari!\")\n",
        "elif a==3:\n",
        "  print(\"That's a Jaguar!\")\n",
        "elif a==4:\n",
        "  print(\"That's a Lamborghini!\")\n",
        "elif a==5:\n",
        "  print(\"That's a Mercedes!\")\n",
        "else :\n",
        "  print('No car found')"
      ],
      "execution_count": 115,
      "outputs": [
        {
          "output_type": "stream",
          "text": [
            "That's a Mercedes!\n"
          ],
          "name": "stdout"
        }
      ]
    },
    {
      "cell_type": "code",
      "metadata": {
        "id": "iJMbzxCtIUDy",
        "colab_type": "code",
        "colab": {}
      },
      "source": [
        ""
      ],
      "execution_count": 22,
      "outputs": []
    }
  ]
}