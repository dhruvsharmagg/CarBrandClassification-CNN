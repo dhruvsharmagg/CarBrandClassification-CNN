{
  "nbformat": 4,
  "nbformat_minor": 0,
  "metadata": {
    "colab": {
      "name": "Duplicate Images.ipynb",
      "provenance": []
    },
    "kernelspec": {
      "name": "python3",
      "display_name": "Python 3"
    }
  },
  "cells": [
    {
      "cell_type": "code",
      "metadata": {
        "id": "wZDJroEPZ0gd",
        "colab_type": "code",
        "colab": {}
      },
      "source": [
        "import hashlib\n",
        "from scipy.misc import imread\n",
        "import matplotlib.pyplot as plt\n",
        "%matplotlib inline\n",
        "import time\n",
        "import numpy as np"
      ],
      "execution_count": 2,
      "outputs": []
    },
    {
      "cell_type": "code",
      "metadata": {
        "id": "Mxbk0pGkaweD",
        "colab_type": "code",
        "colab": {}
      },
      "source": [
        "from hashlib import md5"
      ],
      "execution_count": 3,
      "outputs": []
    },
    {
      "cell_type": "code",
      "metadata": {
        "id": "Vwo9vWMRbNxi",
        "colab_type": "code",
        "colab": {}
      },
      "source": [
        "def file_hash(filepath):\n",
        "  with open(filepath,'rb') as f:\n",
        "    return md5(f.read()).hexdigest()"
      ],
      "execution_count": 4,
      "outputs": []
    },
    {
      "cell_type": "code",
      "metadata": {
        "id": "3m16gPjSbhW6",
        "colab_type": "code",
        "colab": {}
      },
      "source": [
        ""
      ],
      "execution_count": null,
      "outputs": []
    }
  ]
}